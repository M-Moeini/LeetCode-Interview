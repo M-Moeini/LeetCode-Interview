{
  "cells": [
    {
      "cell_type": "markdown",
      "metadata": {
        "id": "yXEP9dKW1h6b"
      },
      "source": [
        "# Easy"
      ]
    },
    {
      "cell_type": "code",
      "execution_count": null,
      "metadata": {
        "colab": {
          "base_uri": "https://localhost:8080/"
        },
        "id": "xgzxAMDI1uG8",
        "outputId": "6c0b8a4c-f1ae-4111-94e9-aac953fd3118"
      },
      "outputs": [
        {
          "data": {
            "text/plain": [
              "(0, 1)"
            ]
          },
          "execution_count": 7,
          "metadata": {},
          "output_type": "execute_result"
        }
      ],
      "source": [
        " #1- Two Sum\n",
        " nums = [2,7,11,15]\n",
        " target = 9\n",
        " def twoSum(nums, targer):\n",
        "    for i in range(len(nums)):\n",
        "      for j in range(i+1,len(nums)):\n",
        "        if nums[i]+nums[j] == target:\n",
        "          return i,j\n",
        "\n",
        "twoSum(nums,target)\n"
      ]
    },
    {
      "cell_type": "code",
      "execution_count": null,
      "metadata": {
        "colab": {
          "base_uri": "https://localhost:8080/"
        },
        "id": "8VCwLNrRHT_F",
        "outputId": "8a237968-f2c8-43e7-d666-7c76e9b51e89"
      },
      "outputs": [
        {
          "data": {
            "text/plain": [
              "True"
            ]
          },
          "execution_count": 14,
          "metadata": {},
          "output_type": "execute_result"
        }
      ],
      "source": [
        "#2- Palindrome Number\n",
        "num = 121\n",
        "def isPalindrom(num):\n",
        "  numS = str(num)\n",
        "  return numS == numS[::-1]\n",
        "\n",
        "isPalindrom(12344321)"
      ]
    },
    {
      "cell_type": "code",
      "execution_count": null,
      "metadata": {
        "colab": {
          "base_uri": "https://localhost:8080/"
        },
        "id": "eJRgC5wtHXNp",
        "outputId": "4a620dc7-55be-4085-fc22-d31323e64c23"
      },
      "outputs": [
        {
          "data": {
            "text/plain": [
              "3"
            ]
          },
          "execution_count": 53,
          "metadata": {},
          "output_type": "execute_result"
        }
      ],
      "source": [
        "#3- Roman to Integer\n",
        "# Don't forget of while loop since you are manipulating i in the loop!\n",
        "roman = 'III'\n",
        "def roman2Integer(roman):\n",
        "  roman_dic = {'I':1, 'V':5, 'X':10, 'L':50, 'C':100, 'D':500, 'M':1000}\n",
        "  sum = 0\n",
        "  flag = True\n",
        "  i = 0\n",
        "  while i <len(roman):\n",
        "    if(i<len(roman)-1):\n",
        "      if(((roman[i]=='I') and ((roman[i+1]=='V') or(roman[i+1]=='X'))) or ((roman[i]=='X') and ((roman[i+1]=='L') or(roman[i+1]=='C'))) or ((roman[i]=='C') and ((roman[i+1]=='D') or(roman[i+1]=='M')))):\n",
        "        sum += (roman_dic[roman[i+1]]-roman_dic[roman[i]])\n",
        "        i+=1\n",
        "      else:\n",
        "        sum += roman_dic[roman[i]]\n",
        "    else:\n",
        "      sum += roman_dic[roman[-1]]\n",
        "    i+=1\n",
        "  return sum\n",
        "\n",
        "\n",
        "\n",
        "roman2Integer(roman)"
      ]
    },
    {
      "cell_type": "code",
      "execution_count": null,
      "metadata": {
        "colab": {
          "base_uri": "https://localhost:8080/",
          "height": 35
        },
        "id": "HzS1tUsiIJFt",
        "outputId": "aa4abc26-6f88-4652-a66e-46321dbd42c1"
      },
      "outputs": [
        {
          "data": {
            "application/vnd.google.colaboratory.intrinsic+json": {
              "type": "string"
            },
            "text/plain": [
              "'fl'"
            ]
          },
          "execution_count": 78,
          "metadata": {},
          "output_type": "execute_result"
        }
      ],
      "source": [
        "#4- Longest Common Prefix\n",
        "# find LCP between first 2 and name it common and then find the LCP between the common and the rest of the s array!\n",
        "s = [\"flight\", \"flow\", \"fly\"]\n",
        "def LongestCommonPrefix(s):\n",
        "\n",
        "  def LCP(s1,s2):\n",
        "    a = s1 if len(s1)>=len(s2) else s2\n",
        "    b = s2 if len(s1)>=len(s2) else s1\n",
        "    common = []\n",
        "    for i in range(len(b)):\n",
        "      if a[i]==b[i]:\n",
        "        common.append(b[i])\n",
        "      else:\n",
        "        break\n",
        "    return ''.join(tuple(common))\n",
        "\n",
        "    if (len(s)<1):\n",
        "        return \"\"\n",
        "\n",
        "    if (len(s)==1):\n",
        "        return s[0]\n",
        "\n",
        "  common = LCP(s[0],s[1])\n",
        "  for i in range(2,len(s)):\n",
        "    common = LCP(common,s[i])\n",
        "  return common\n",
        "\n",
        "\n",
        "LongestCommonPrefix(s)\n",
        "\n",
        "\n"
      ]
    },
    {
      "cell_type": "code",
      "execution_count": null,
      "metadata": {
        "colab": {
          "base_uri": "https://localhost:8080/"
        },
        "id": "QbjmbZGufTv1",
        "outputId": "bb979d78-f60b-4671-801c-4a2e4cc270f1"
      },
      "outputs": [
        {
          "data": {
            "text/plain": [
              "True"
            ]
          },
          "execution_count": 96,
          "metadata": {},
          "output_type": "execute_result"
        }
      ],
      "source": [
        "#5- Valid Parentheses\n",
        "# have a dictinary of parentheses, keys:closing ones\n",
        "# for each char check if it opening or closing\n",
        "# if its opening push it to stack\n",
        "# if its closing check the stack is not empty the pop it from stack if its empty return False\n",
        "# check the poped one with the matched opening in the dic, if its not match return False\n",
        "# Return not stack\n",
        "s = \"()[]{}\"\n",
        "def isValidPatenthesString(s):\n",
        "  p_dic = {')':'(', ']':'[', '}':'{'}\n",
        "  stack = []\n",
        "  for char in s:\n",
        "    if char in p_dic.values():\n",
        "      stack.append(char)\n",
        "    else:\n",
        "      if not stack:\n",
        "        return False\n",
        "      if stack.pop() != p_dic[char]:\n",
        "        return False\n",
        "  return not stack\n",
        "isValidPatenthesString(s)\n"
      ]
    },
    {
      "cell_type": "code",
      "execution_count": null,
      "metadata": {
        "id": "IydYEHS8fVG4"
      },
      "outputs": [],
      "source": [
        "# 6- Merge Two Sorted Lists\n",
        "# define a dummy node\n",
        "# in each iteration(while cur1 and cur2), compare cur1 and cur2\n",
        "# find the smaller one and link prev with the smaller\n",
        "# then move the smaller one forward and move the prev forward at the end of loop\n",
        "# when the loop is done link the extra nodes to prev\n",
        "\n",
        "class ListNode:\n",
        "    def __init__(self, val=0, next=None):\n",
        "        self.val = val\n",
        "        self.next = next\n",
        "\n",
        "def mergeTwoLists(h1,h2):\n",
        "\n",
        "  cur1 = h1\n",
        "  cur2 = h2\n",
        "  dummy = ListNode()\n",
        "  prev = dummy\n",
        "  while cur1 and cur2:\n",
        "      if cur2.val>=cur1.val:\n",
        "        prev.next = cur1\n",
        "        cur1 = cur1.next\n",
        "\n",
        "      else:\n",
        "        prev.next = cur2\n",
        "        cur2 = cur2.next\n",
        "      prev = prev.next\n",
        "\n",
        "  prev.next = cur1 if cur1 is not None else cur2\n",
        "\n",
        "  return dummy.next\n"
      ]
    },
    {
      "cell_type": "code",
      "execution_count": null,
      "metadata": {
        "colab": {
          "base_uri": "https://localhost:8080/"
        },
        "id": "Y9fIAb-Hq5nH",
        "outputId": "cde99829-213d-45b3-a04b-6d89243a0212"
      },
      "outputs": [
        {
          "data": {
            "text/plain": [
              "5"
            ]
          },
          "execution_count": 143,
          "metadata": {},
          "output_type": "execute_result"
        }
      ],
      "source": [
        "#7- Remove Duplicates from Sorted Array\n",
        "# Don't define new array\n",
        "#Two pointer solution\n",
        "# In place manipulation\n",
        "def removeDuplicates(nums):\n",
        "  j = 0\n",
        "  for i in range(len(nums)):\n",
        "    if nums[i] != nums[i-1]:\n",
        "      nums[j] = nums[i]\n",
        "      j+=1\n",
        "  return j\n",
        "nums = [0,0,1,1,1,2,2,3,3,4]\n",
        "removeDuplicates(nums)"
      ]
    },
    {
      "cell_type": "code",
      "execution_count": null,
      "metadata": {
        "colab": {
          "base_uri": "https://localhost:8080/"
        },
        "id": "XVIWQCAB0qvm",
        "outputId": "935ee97b-abf0-40a6-9fe9-cd453e07720b"
      },
      "outputs": [
        {
          "data": {
            "text/plain": [
              "5"
            ]
          },
          "execution_count": 142,
          "metadata": {},
          "output_type": "execute_result"
        }
      ],
      "source": [
        "#8- Remove Element\n",
        "# In place manipulation\n",
        "def removeElement(nums, val):\n",
        "  j = 0\n",
        "  for i in range(len(nums)):\n",
        "      if nums[i] != val:\n",
        "          nums[j] = nums[i]\n",
        "          j += 1\n",
        "  return j\n",
        "\n",
        "nums = [0,1,2,2,3,0,4,2]\n",
        "val = 2\n",
        "removeElement(nums, val)"
      ]
    },
    {
      "cell_type": "code",
      "execution_count": null,
      "metadata": {
        "colab": {
          "base_uri": "https://localhost:8080/"
        },
        "id": "HVgjkAJZ6M9t",
        "outputId": "89dadc95-2545-4495-b658-2b62ff46b4f3"
      },
      "outputs": [
        {
          "data": {
            "text/plain": [
              "2"
            ]
          },
          "execution_count": 6,
          "metadata": {},
          "output_type": "execute_result"
        }
      ],
      "source": [
        "#9- Find the Index of the First Occurrence in a String\n",
        "# Check the other solotion with haystack.index(needle)\n",
        "s = 'sadbutsad'\n",
        "def strStr(haystack, needle):\n",
        "  s = haystack\n",
        "  s_ = needle\n",
        "  if haystack == needle:\n",
        "    return 0\n",
        "\n",
        "  for i in range(len(s)-len(s_)+1):\n",
        "    j = i\n",
        "    k = 0\n",
        "    idx = 0\n",
        "    while k<len(s_):\n",
        "      if s_[k] == s[j]:\n",
        "        idx+=1\n",
        "\n",
        "      j+=1\n",
        "      k+=1\n",
        "    if idx == len(s_):\n",
        "      return i\n",
        "  return -1\n",
        "\n",
        "  ## Other solution\n",
        "  # return haystack.index(needle) if needle in haystack else -1\n",
        "\n",
        "strStr('abc','c')"
      ]
    },
    {
      "cell_type": "code",
      "execution_count": null,
      "metadata": {
        "colab": {
          "base_uri": "https://localhost:8080/"
        },
        "id": "qocL_GhPdu3p",
        "outputId": "0c8ade99-285f-436a-ea53-936d25951a10"
      },
      "outputs": [
        {
          "data": {
            "text/plain": [
              "2"
            ]
          },
          "execution_count": 16,
          "metadata": {},
          "output_type": "execute_result"
        }
      ],
      "source": [
        "#10- Search Insert Position\n",
        "nums = [1,3,5,6]\n",
        "target = 4\n",
        "def searchInsert(nums, target):\n",
        "  for i in range(len(nums)):\n",
        "    if (nums[i]==target) or (nums[i]>target):\n",
        "      return i\n",
        "  return len(nums)\n",
        "\n",
        "searchInsert(nums,target)\n"
      ]
    },
    {
      "cell_type": "code",
      "execution_count": null,
      "metadata": {
        "colab": {
          "base_uri": "https://localhost:8080/"
        },
        "id": "zM4cTrmeY_LI",
        "outputId": "ccd72f83-b3cd-4fce-f181-6729f03e1c21"
      },
      "outputs": [
        {
          "data": {
            "text/plain": [
              "3"
            ]
          },
          "execution_count": 24,
          "metadata": {},
          "output_type": "execute_result"
        }
      ],
      "source": [
        "#11- Length of Last Word\n",
        "# Learn r.split()\n",
        "def lengthOfLastWord(s):\n",
        "\n",
        "      p, length = len(s), 0\n",
        "\n",
        "      while p > 0:\n",
        "          p -= 1\n",
        "          # we're in the middle of the last word\n",
        "          if s[p] != \" \":\n",
        "              length += 1\n",
        "          # here is the end of last word\n",
        "          elif length > 0:\n",
        "              return length\n",
        "\n",
        "      return length\n",
        "    # return len(s.rsplit()[-1])\n",
        "\n",
        "lengthOfLastWord('Day')"
      ]
    },
    {
      "cell_type": "code",
      "execution_count": null,
      "metadata": {
        "colab": {
          "base_uri": "https://localhost:8080/"
        },
        "id": "boltsJzmyCGy",
        "outputId": "339c3bb6-bd62-4197-fb65-4307ec326d73"
      },
      "outputs": [
        {
          "name": "stdout",
          "output_type": "stream",
          "text": [
            "2\n",
            "1\n"
          ]
        },
        {
          "data": {
            "text/plain": [
              "[1, 0, 0, 0]"
            ]
          },
          "execution_count": 36,
          "metadata": {},
          "output_type": "execute_result"
        }
      ],
      "source": [
        "#12- Plus One\n",
        "# Check to see if the digit is greater than 9 or not! if yes add the carry to the next digit\n",
        "# if the last number was greater than 9 you can return as [1] + digits\n",
        "digits = [9,9,9]\n",
        "def plusOne(digits):\n",
        "  digits[-1]+=1\n",
        "  i = len(digits)-1\n",
        "  carry = 0\n",
        "  while(i>0):\n",
        "    print(i)\n",
        "    if digits[i]>9:\n",
        "      digits[i] %=10\n",
        "      carry = 1\n",
        "      digits[i-1] +=carry\n",
        "    i-=1\n",
        "  if digits[0]>9:\n",
        "    digits[0] %= 10\n",
        "    return [1] + digits\n",
        "\n",
        "  else:\n",
        "    return digits\n",
        "\n",
        "\n",
        "plusOne(digits)"
      ]
    },
    {
      "cell_type": "code",
      "execution_count": null,
      "metadata": {
        "colab": {
          "base_uri": "https://localhost:8080/",
          "height": 36
        },
        "id": "_XL0rCiwJtkp",
        "outputId": "00a4ab10-fe54-4530-ede6-d2a611a3b9a8"
      },
      "outputs": [
        {
          "data": {
            "application/vnd.google.colaboratory.intrinsic+json": {
              "type": "string"
            },
            "text/plain": [
              "'10000'"
            ]
          },
          "execution_count": 98,
          "metadata": {},
          "output_type": "execute_result"
        }
      ],
      "source": [
        "#13- Add Binary\n",
        "# Learn\n",
        "def addBinary(a,b):\n",
        "\n",
        "  x, y = int(a,2), int(b,2)\n",
        "  while y:\n",
        "    answer  = x ^ y\n",
        "    carry = (x & y) <<1\n",
        "    x, y = answer, carry\n",
        "  return bin(x)[2:]\n",
        "\n",
        "a = \"1011\"\n",
        "b = \"0101\"\n",
        "\n",
        "addBinary(a, b)"
      ]
    },
    {
      "cell_type": "code",
      "execution_count": null,
      "metadata": {
        "colab": {
          "base_uri": "https://localhost:8080/"
        },
        "id": "uWANAkbFJv3d",
        "outputId": "513b1ddf-8b27-4617-abe6-ef3680e280d6"
      },
      "outputs": [
        {
          "data": {
            "text/plain": [
              "1"
            ]
          },
          "execution_count": 107,
          "metadata": {},
          "output_type": "execute_result"
        }
      ],
      "source": [
        "#14- Sqrt(x)\n",
        "def mySqrt(x):\n",
        "  while\n",
        "    if(i*i) == x:\n",
        "      return i\n",
        "\n",
        "    elif i*i>x:\n",
        "      return i-1\n",
        "\n",
        "    else:\n",
        "      return 1\n",
        "\n",
        "mySqrt(2)"
      ]
    },
    {
      "cell_type": "code",
      "execution_count": null,
      "metadata": {
        "colab": {
          "base_uri": "https://localhost:8080/"
        },
        "id": "zu8aYTOcZx5G",
        "outputId": "3f1d52cb-59a4-4a4d-db02-177b17910cd7"
      },
      "outputs": [
        {
          "data": {
            "text/plain": [
              "63245986"
            ]
          },
          "execution_count": 122,
          "metadata": {},
          "output_type": "execute_result"
        }
      ],
      "source": [
        "#15- Climb Stairs\n",
        "#Learn\n",
        "# Recursion with memoiazation\n",
        "#63245986\n",
        "\n",
        "def climbStairs(n):\n",
        "  memo = [0]*(n+1)\n",
        "  return helper(n,memo)\n",
        "def helper(n,memo):\n",
        "  if n < 1:\n",
        "    return 0\n",
        "  if n == 1:\n",
        "    return 1\n",
        "  if n == 2:\n",
        "    return 2\n",
        "  #This checks if the number of ways to reach step n has already been computed and stored in memo. If so, it returns the stored value to avoid redundant calculations.\n",
        "  if memo[n] > 0:\n",
        "    return memo[n]\n",
        "  memo[n] = helper(n-1, memo) + helper(n-2, memo)\n",
        "  return memo[n]\n",
        "\n",
        "\n",
        "\n",
        "##\n",
        "\n",
        "climbStairs(38)"
      ]
    },
    {
      "cell_type": "code",
      "execution_count": null,
      "metadata": {
        "colab": {
          "base_uri": "https://localhost:8080/"
        },
        "id": "iEoH2YVF8tA3",
        "outputId": "667dc1e8-aedb-4460-a869-5939fd4bba49"
      },
      "outputs": [
        {
          "data": {
            "text/plain": [
              "39088169"
            ]
          },
          "execution_count": 136,
          "metadata": {},
          "output_type": "execute_result"
        }
      ],
      "source": [
        "#Fibo without memoization\n",
        "def fibo(n):\n",
        "    if n == 0:\n",
        "        return 0\n",
        "    if n == 1:\n",
        "        return 1\n",
        "    return fibo(n - 1) + fibo(n - 2)\n",
        "fibo(38)"
      ]
    },
    {
      "cell_type": "code",
      "execution_count": null,
      "metadata": {
        "colab": {
          "base_uri": "https://localhost:8080/"
        },
        "id": "xWfKrwoI7Qlm",
        "outputId": "5e79f79e-a414-4c1b-c637-038992447389"
      },
      "outputs": [
        {
          "data": {
            "text/plain": [
              "39088169"
            ]
          },
          "execution_count": 139,
          "metadata": {},
          "output_type": "execute_result"
        }
      ],
      "source": [
        "#Fibo Recursion with memoization\n",
        "# define a helper function outside\n",
        "# pass memo = [0]*(n+1) to it\n",
        "# at the end of base checks check if memo is empty or not, if not return memo[n]\n",
        "# calaculate store the calculation(helper(n-1,memo) + helper(n-2,memo)) in memo[n]\n",
        "# return memo[n]\n",
        "#39088169\n",
        "\n",
        "def fibo(n):\n",
        "  # if n == 0:\n",
        "  #   return 0\n",
        "  memo = [0]*(n+1)\n",
        "  return helper(n,memo)\n",
        "def helper(n,memo):\n",
        "  if n == 1:\n",
        "    return 1\n",
        "  if n == 2:\n",
        "    return 1\n",
        "  if memo[n]>0:\n",
        "    return memo[n]\n",
        "  memo[n] = helper(n-1,memo) + helper(n-2,memo)\n",
        "  return memo[n]\n",
        "\n",
        "fibo(38)"
      ]
    },
    {
      "cell_type": "code",
      "execution_count": null,
      "metadata": {
        "id": "woWRHWR98v3S"
      },
      "outputs": [],
      "source": [
        "#16- Remove Duplicates from Sorted List\n",
        "# check the val of current node with the val of next node if same:\n",
        "# connect that node to the next node\n",
        "# otherwise move the current forward\n",
        "def deleteDuplicates(head):\n",
        "  current = head\n",
        "  while current is not None and current.next is not None:\n",
        "    if current.val == current.next.val:\n",
        "      current.next = current.next.next\n",
        "    else:\n",
        "      current = current.next\n",
        "  return head"
      ]
    },
    {
      "cell_type": "code",
      "execution_count": null,
      "metadata": {
        "colab": {
          "base_uri": "https://localhost:8080/"
        },
        "id": "0_zHmptA9b1U",
        "outputId": "6a2c6425-81b4-4c74-fcf5-4cee9c9047ee"
      },
      "outputs": [
        {
          "name": "stdout",
          "output_type": "stream",
          "text": [
            "[1, 2, 3, 4, 5, 6, 7]\n"
          ]
        }
      ],
      "source": [
        "#17- Merge Sorted Array\n",
        "# Learn\n",
        "# Extend method\n",
        "# compare each element of nums1 and nums2 and put the max at the end of nums1\n",
        "# becaeful check nums1 first!, also check p1>=0 and also check p2 don't get 0 if so break!\n",
        "def merge(nums1, m, nums2, n):\n",
        "  p1 = m-1\n",
        "  p2 = n-1\n",
        "  p = m+n-1\n",
        "\n",
        "  while p>=0:\n",
        "    if p2<0:\n",
        "      break\n",
        "    if  p1>= 0 and nums1[p1] > nums2[p2]:\n",
        "        nums1[p] = nums1[p1]\n",
        "        p1 -= 1\n",
        "    elif p2>=0 and nums1[p1] < nums2[p2]:\n",
        "        nums1[p] = nums2[p2]\n",
        "        p2-=1\n",
        "\n",
        "    p -=1\n",
        "\n",
        "\n",
        "  return nums1\n",
        "\n",
        "\n",
        "\n",
        "  # nums1.extend(nums2)\n",
        "\n",
        "  # nums1.sort()\n",
        "  # return nums1\n",
        "\n",
        "nums1 = [1,2,3,0,0,0,0]\n",
        "nums2 = [4,5,6,7]\n",
        "m = 3\n",
        "n = 4\n",
        "print(merge(nums1, m, nums2, n))\n"
      ]
    },
    {
      "cell_type": "code",
      "execution_count": null,
      "metadata": {
        "id": "nCZgLMGvaFwP"
      },
      "outputs": [],
      "source": [
        "#18- Binary Tree Inorder Traversal\n",
        "# Left Node Right\n",
        "# Memo\n",
        "# Learn\n",
        "\n",
        "# class TreeNode:\n",
        "#     def __init__(self, val=0, left=None, right=None):\n",
        "#         self.val = val\n",
        "#         self.left = left\n",
        "#         self.right = right\n",
        "\n",
        "\n",
        "def inorderTraversal(node):\n",
        "  res = []\n",
        "  res = helper(res,node)\n",
        "  return res\n",
        "\n",
        "\n",
        "def helper(node,res):\n",
        "  if node is not None:\n",
        "    helper(res,node.left)\n",
        "    res.append(node.val)\n",
        "    helper(res,node.right)\n",
        "\n",
        "\n",
        "\n",
        "# while the stack or node is not none!\n",
        "# while the node is not none push it to stack go to left\n",
        "# now when you exit the while you must pop the stack becuase its none, append the node.val to the res and go to the right node!!\n",
        "# Code: Read till you is not none and check LEFT and PUSH, POP and read VAL, go to Right\n",
        "\n",
        "def definorderTraversalV2(node):\n",
        "  stack = []\n",
        "  res = []\n",
        "  while node or stack:\n",
        "    while node:\n",
        "      stack.append(node)\n",
        "      res.append(node.left)\n",
        "\n",
        "    node = stack.pop()\n",
        "    res.appned(node.val)\n",
        "    node = node.right\n",
        "\n",
        "  return res\n",
        "\n",
        "\n",
        "\n",
        "\n"
      ]
    },
    {
      "cell_type": "code",
      "execution_count": null,
      "metadata": {
        "id": "ksg3oBBmjvpZ"
      },
      "outputs": [],
      "source": [
        "#19- Symmetric Tree\n",
        "#Memo\n",
        "#Learn\n",
        "# check return\n",
        "# Why inrderTraversal == reverserInorderTraversal ([left,node,right] == [right,node,left]) doesnt work? I had the code worked for most test cases but not all\n",
        "\n",
        "def isSymmetric(root):\n",
        "  node = root\n",
        "  return isMirror(node.left, node.right)\n",
        "\n",
        "\n",
        "def isMirror(left, right):\n",
        "  if(left == None and right == None):\n",
        "    return True\n",
        "  if (left == None or right == None):\n",
        "    return False\n",
        "\n",
        "  return left.val == right.val and isMirror(left.right, right.left) and isMirror(right.left, left.right)\n",
        "\n",
        "\n",
        "\n",
        "# # Definition for a binary tree node.\n",
        "# # class TreeNode:\n",
        "# #     def __init__(self, val=0, left=None, right=None):\n",
        "# #         self.val = val\n",
        "# #         self.left = left\n",
        "# #         self.right = right\n",
        "# class Solution:\n",
        "#     def isSymmetric(self, root: Optional[TreeNode]) -> bool:\n",
        "#         return self.inOrderTraversal(root)==self.reverseInorderTraversal(root)\n",
        "\n",
        "#     def inOrderTraversal(self, root):\n",
        "#         res = []\n",
        "#         self.helper1(root,res)\n",
        "#         return res\n",
        "\n",
        "#     def helper1(self, root,res):\n",
        "#         if root is not None:\n",
        "#             self.helper1(root.left,res)\n",
        "#             res.append(root.val)\n",
        "#             self.helper1(root.right,res)\n",
        "#     def reverseInorderTraversal(self, root):\n",
        "#         res = []\n",
        "#         self.helper2(root,res)\n",
        "#         return res\n",
        "#     def helper2(self, root,res):\n",
        "#         if root is not None:\n",
        "#             self.helper2(root.right,res)\n",
        "#             res.append(root.val)\n",
        "#             self.helper2(root.left,res)\n",
        "\n",
        "\n",
        "\n",
        "\n",
        "\n",
        "\n",
        "\n"
      ]
    },
    {
      "cell_type": "code",
      "execution_count": null,
      "metadata": {
        "colab": {
          "base_uri": "https://localhost:8080/"
        },
        "id": "FOv0rtwTsxge",
        "outputId": "81d3333f-e5ee-4fe0-9144-7843678ac138"
      },
      "outputs": [
        {
          "name": "stdout",
          "output_type": "stream",
          "text": [
            "[4, 2, 5, 1, 6, 3, 7]\n"
          ]
        }
      ],
      "source": [
        "#20 Maximum Depth of Binary Tree\n",
        "# Learn https://www.youtube.com/watch?v=s2Yyk3qdy3o\n",
        "class TreeNode:\n",
        "    def __init__(self, val=0, left=None, right=None):\n",
        "        self.val = val\n",
        "        self.left = left\n",
        "        self.right = right\n",
        "# a = TreeNode('a')\n",
        "# b = TreeNode('b')\n",
        "# c = TreeNode('c')\n",
        "# d = TreeNode('d')\n",
        "# e = TreeNode('e')\n",
        "# f = TreeNode('f')\n",
        "# # g = TreeNode('g')\n",
        "\n",
        "a = TreeNode(1)\n",
        "b = TreeNode(2)\n",
        "c = TreeNode(3)\n",
        "d = TreeNode(4)\n",
        "e = TreeNode(5)\n",
        "f = TreeNode(6)\n",
        "g = TreeNode(7)\n",
        "\n",
        "a.left = b\n",
        "a.right = c\n",
        "b.left = d\n",
        "b.right = e\n",
        "c.left = f\n",
        "c.right = g\n",
        "\n",
        "#Examples\n",
        "\n",
        "def maxDepth(root):\n",
        "    if root is None:\n",
        "        return 0\n",
        "    left = maxDepth(root.left)\n",
        "    right = maxDepth(root.right)\n",
        "\n",
        "    return max(left,right) +1\n",
        "\n",
        "def sumBinaryTree(node):\n",
        "  if node is None:\n",
        "    return 0\n",
        "  left = sumBinaryTree(node.left)\n",
        "  right = sumBinaryTree(node.right)\n",
        "  return node.val + left + right\n",
        "\n",
        "\n",
        "def findNode(node,n):\n",
        "  if node.val == n:\n",
        "    return True\n",
        "  else:\n",
        "    return False\n",
        "\n",
        "  left = findNode(node.left,n)\n",
        "  right = findNode(node.right,n)\n",
        "  return left | right\n",
        "\n",
        "\n",
        "res = []\n",
        "def inorderTraversal_(node):\n",
        "\n",
        "  if node is None:\n",
        "    return []\n",
        "\n",
        "  left = inorderTraversal_(node.left)\n",
        "  right = inorderTraversal_(node.right)\n",
        "\n",
        "  return left + [node.val] + right\n",
        "\n",
        "\n",
        "\n",
        "\n",
        "# print(maxDepth(a))\n",
        "# print(sumBinaryTree(a))\n",
        "# print(findNode(a,2))\n",
        "print(inorderTraversal_(a))"
      ]
    },
    {
      "cell_type": "markdown",
      "metadata": {
        "id": "PCj_kLUP5W_C"
      },
      "source": [
        "![image.png](data:image/png;base64,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)"
      ]
    },
    {
      "cell_type": "markdown",
      "metadata": {
        "id": "RPg9mYDSypJ1"
      },
      "source": [
        "![image.png](data:image/png;base64,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)"
      ]
    },
    {
      "cell_type": "code",
      "execution_count": null,
      "metadata": {
        "id": "wBr8U3Scu9TY"
      },
      "outputs": [],
      "source": [
        "#21- Convert Sorted Array to Binary Search Tree\n",
        "nums = [-10,-3,0,5,9]\n",
        "def sortedArrayToBST(nums):\n",
        "  return helper(0,len(nums)-1,nums)\n",
        "\n",
        "\n",
        "def helper(left,right,nums):\n",
        "  if left>right:\n",
        "    return None\n",
        "\n",
        "\n",
        "  p = (left + right)//2\n",
        "  root = TreeNode(nums[p])\n",
        "  root.left = helper(left,p-1,nums)\n",
        "  root.right = helper(p+1, right,nums)\n",
        "  return root\n",
        "\n",
        "\n"
      ]
    },
    {
      "cell_type": "code",
      "execution_count": null,
      "metadata": {
        "colab": {
          "base_uri": "https://localhost:8080/"
        },
        "id": "xEN7qcIM9eBu",
        "outputId": "48d4d6a0-4e10-4cce-9595-a6f2fda58ee7"
      },
      "outputs": [
        {
          "data": {
            "text/plain": [
              "[[1], [1, 1], [1, 2, 1]]"
            ]
          },
          "execution_count": 3,
          "metadata": {},
          "output_type": "execute_result"
        }
      ],
      "source": [
        "#22- Pascal's Triangle\n",
        "n = 4\n",
        "def generatePascal(n):\n",
        "  if n == 1:\n",
        "    return [1]\n",
        "  if n == 2:\n",
        "    return [1,1]\n",
        "  x = generatePascal(n-1)\n",
        "  return [1] +[x[i] + x[i+1] for i in range(len(x)-1)]+ [1]\n",
        "\n",
        "def helper(n):\n",
        "  return [generatePascal(i) for i in range(1,n+1)]\n",
        "\n",
        "helper(3)"
      ]
    },
    {
      "cell_type": "code",
      "execution_count": null,
      "metadata": {
        "colab": {
          "base_uri": "https://localhost:8080/"
        },
        "id": "FnKcDvbEB-Ki",
        "outputId": "c13cceb4-ec4c-4fe8-f320-3f0e710700b1"
      },
      "outputs": [
        {
          "data": {
            "text/plain": [
              "5"
            ]
          },
          "execution_count": 4,
          "metadata": {},
          "output_type": "execute_result"
        }
      ],
      "source": [
        "#23- Best Time to Buy and Sell Stock\n",
        "# Brutforce and 1 pass approach\n",
        "# 1 pass: the idea is if we find the minimum the we can compare each point after that with min to see how much profit we get\n",
        "# in each iterartion look for min if there is lower value chnage the min to it, if not that means we should go for the pfofit calculation\n",
        "# if current price - min price > max profit then update the max profit\n",
        "prices = [7,1,5,3,6,4]\n",
        "def maxProfit(prices):\n",
        "  max_ = 0\n",
        "  for i in range(len(prices)):\n",
        "    for j in range(i+1,len(prices)):\n",
        "      if prices[j]-prices[i] > max_:\n",
        "        max_ = prices[j]-prices[i]\n",
        "  return max_\n",
        "\n",
        "\n",
        "def maxProfit_(prices):\n",
        "  maxprofit = 0\n",
        "  minprice = float('inf')\n",
        "  for i in range(len(prices)):\n",
        "\n",
        "    if prices[i] < minprice:\n",
        "      minprice = prices[i]\n",
        "    elif prices[i] - minprice> maxprofit:\n",
        "      maxprofit = prices[i] - minprice\n",
        "\n",
        "  return maxprofit\n",
        "\n",
        "\n",
        "maxProfit_(prices)"
      ]
    },
    {
      "cell_type": "code",
      "execution_count": null,
      "metadata": {
        "colab": {
          "base_uri": "https://localhost:8080/"
        },
        "id": "QvhvipfVbAD7",
        "outputId": "4cf242f1-6bf5-468e-a100-4e879e3f7eba"
      },
      "outputs": [
        {
          "name": "stdout",
          "output_type": "stream",
          "text": [
            "AMANAPLANACANALPANAMA AMANAPLANACANALPANAMA\n"
          ]
        },
        {
          "data": {
            "text/plain": [
              "True"
            ]
          },
          "execution_count": 47,
          "metadata": {},
          "output_type": "execute_result"
        }
      ],
      "source": [
        "#24- Valid Palindrome\n",
        "# Easier approach is remove any alphnumeric then compare also 1.5 times faster\n",
        "#55ms\n",
        "s = \"A man, a plan, a canal: Panama\"\n",
        "def isPalindrome(s):\n",
        "  s = s.upper()\n",
        "  i = 0\n",
        "  j = len(s) -1\n",
        "  while i >-j:\n",
        "    while i<j and not s[i].isalnum():\n",
        "      i+=1\n",
        "    while i<j and  not s[j].isalnum():\n",
        "      j-=1\n",
        "    print(s[i], s[j])\n",
        "    if s[i] != s[j]:\n",
        "      return False\n",
        "    i+=1\n",
        "    j-=1\n",
        "  return True\n",
        "\n",
        "#37ms\n",
        "def isPalindrome_(s):\n",
        "  s = ''.join(tuple([char for char in s if char.isalnum()])).upper()\n",
        "  return s == s[::-1]\n",
        "\n",
        "isPalindrome_(s)"
      ]
    },
    {
      "cell_type": "code",
      "execution_count": null,
      "metadata": {
        "colab": {
          "base_uri": "https://localhost:8080/"
        },
        "id": "mWn8luX8bMI8",
        "outputId": "cae51a1c-79ed-4479-be02-e52fd5319942"
      },
      "outputs": [
        {
          "data": {
            "text/plain": [
              "4"
            ]
          },
          "execution_count": 1,
          "metadata": {},
          "output_type": "execute_result"
        }
      ],
      "source": [
        "#25 - Single Number\n",
        "#Awesome\n",
        "def singleNumber(nums):\n",
        "\n",
        "  sum = 0\n",
        "  for num in nums:\n",
        "    sum ^= num\n",
        "  return sum\n",
        "\n",
        "\n",
        "\n",
        "singleNumber([4,1,2,1,2])"
      ]
    },
    {
      "cell_type": "code",
      "execution_count": null,
      "metadata": {
        "colab": {
          "base_uri": "https://localhost:8080/"
        },
        "id": "tzkgce2eXCu_",
        "outputId": "78eb2bf4-8c3b-49bf-f20f-805a6170d32e"
      },
      "outputs": [
        {
          "data": {
            "text/plain": [
              "False"
            ]
          },
          "execution_count": 60,
          "metadata": {},
          "output_type": "execute_result"
        }
      ],
      "source": [
        "#26- Linked List Cycle\n",
        "#Awesome\n",
        "# Imagine two runners running on a track at different speed. What happens when the track is actually a circle?\n",
        "class ListNode:\n",
        "    def __init__(self, x):\n",
        "        self.val = x\n",
        "        self.next = None\n",
        "\n",
        "a = ListNode(3)\n",
        "b = ListNode(2)\n",
        "c = ListNode(0)\n",
        "d = ListNode(-4)\n",
        "e = ListNode(-4)\n",
        "f = ListNode(-4)\n",
        "g = ListNode(-4)\n",
        "\n",
        "a.next = b\n",
        "b.next = c\n",
        "c.next = d\n",
        "\n",
        "e.next = f\n",
        "f.next = g\n",
        "g.next = c\n",
        "\n",
        "\n",
        "def printNode(head):\n",
        "  current = head\n",
        "  while current:\n",
        "    print(current.val)\n",
        "    current = current.next\n",
        "\n",
        "def hasCycle(head):\n",
        "  cur = head\n",
        "  cur_ = head\n",
        "  i = 0\n",
        "  while (cur is not None and cur_ is not None):\n",
        "    if i>0 and cur.val == cur_.val:\n",
        "      return True\n",
        "    cur = cur.next\n",
        "    cur_ = cur_.next.next\n",
        "    i+=1\n",
        "  return False\n",
        "\n",
        "hasCycle(a)\n",
        "\n"
      ]
    },
    {
      "cell_type": "code",
      "execution_count": null,
      "metadata": {
        "colab": {
          "base_uri": "https://localhost:8080/"
        },
        "id": "T2FB9yFIyXrO",
        "outputId": "314e7d04-d386-4183-e317-421facf6fa4d"
      },
      "outputs": [
        {
          "name": "stdout",
          "output_type": "stream",
          "text": [
            "{133627822581472, 133628676061696, 133627822582816, 133627822577056}\n"
          ]
        },
        {
          "data": {
            "text/plain": [
              "0"
            ]
          },
          "execution_count": 22,
          "metadata": {},
          "output_type": "execute_result"
        }
      ],
      "source": [
        "#27- Intersection of Two Linked Lists\n",
        "\n",
        "def getIntersectionNode(headA, headB):\n",
        "  cur, cur_ = headA, headB\n",
        "  res = set()\n",
        "  while cur:\n",
        "    res.add(id(cur))\n",
        "    cur = cur.next\n",
        "  print(res)\n",
        "  while cur_:\n",
        "    if id(cur_) in res:\n",
        "      return cur_\n",
        "    cur_ = cur_.next\n",
        "  return None\n",
        "\n",
        "getIntersectionNode(a,e)"
      ]
    },
    {
      "cell_type": "code",
      "execution_count": null,
      "metadata": {
        "colab": {
          "base_uri": "https://localhost:8080/"
        },
        "id": "eTTM-on20mHz",
        "outputId": "98136cb4-b30c-4cc8-a1b9-ee085277bb87"
      },
      "outputs": [
        {
          "data": {
            "text/plain": [
              "[]"
            ]
          },
          "execution_count": 41,
          "metadata": {},
          "output_type": "execute_result"
        }
      ],
      "source": [
        "#28- Missing Ranges\n",
        "def findMissingRanges(nums,lower,upper):\n",
        "  # if lower not in nums:\n",
        "  #   nums = [lower] + nums\n",
        "  # if upper not in nums:\n",
        "  #   nums = nums + [upper]\n",
        "  res = []\n",
        "  temp = []\n",
        "  if not nums:\n",
        "      temp.append(lower)\n",
        "      temp.append(upper)\n",
        "      res.append(temp)\n",
        "      return res\n",
        "  if abs(nums[0]) - abs(lower)>1:\n",
        "      temp.append(lower)\n",
        "      temp.append(nums[0]-1)\n",
        "      res.append(temp)\n",
        "\n",
        "  for i in range(len(nums)-1):\n",
        "      temp = []\n",
        "      if nums[i+1] - nums[i]>1:\n",
        "          temp.append(nums[i]+1)\n",
        "          temp.append(nums[i+1]-1)\n",
        "          res.append(temp)\n",
        "  temp = []\n",
        "  if upper - nums[-1]>1:\n",
        "      temp.append(nums[-1]+1)\n",
        "      temp.append(upper)\n",
        "      res.append(temp)\n",
        "\n",
        "  return res\n",
        "\n",
        "nums = [-1]\n",
        "lower = -2\n",
        "upper = -1\n",
        "findMissingRanges(nums,lower,upper)"
      ]
    },
    {
      "cell_type": "code",
      "execution_count": null,
      "metadata": {
        "colab": {
          "base_uri": "https://localhost:8080/"
        },
        "id": "Ub4RJ4dF3c9x",
        "outputId": "c668dd36-b136-44a2-e10e-a769b844e6e2"
      },
      "outputs": [
        {
          "data": {
            "text/plain": [
              "1"
            ]
          },
          "execution_count": 66,
          "metadata": {},
          "output_type": "execute_result"
        }
      ],
      "source": [
        "from ast import NotEq\n",
        "#29- Majority Element\n",
        "nums = [1,1,1,1,1,2,2,3]\n",
        "def majorityElement(nums):\n",
        "  nums = sorted(nums)\n",
        "  return nums[len(nums)//2]\n",
        "\n",
        "\n",
        "def majorityElement_(nums):\n",
        "  count = 0\n",
        "  candidate = None\n",
        "\n",
        "  for num in nums:\n",
        "    if count == 0:\n",
        "      candidate = num\n",
        "\n",
        "    count+=1 if num == candidate else -1\n",
        "  return candidate\n",
        "majorityElement_(nums)"
      ]
    },
    {
      "cell_type": "code",
      "execution_count": null,
      "metadata": {
        "colab": {
          "base_uri": "https://localhost:8080/"
        },
        "id": "1SFMsIS1_UqJ",
        "outputId": "316114d1-910f-4df3-a5ef-9db06ba0bec9"
      },
      "outputs": [
        {
          "data": {
            "text/plain": [
              "365"
            ]
          },
          "execution_count": 62,
          "metadata": {},
          "output_type": "execute_result"
        }
      ],
      "source": [
        "#30- Excel Sheet Column Number\n",
        "def titleToNumber(columnTitle):\n",
        "    s = columnTitle\n",
        "    sum = 0\n",
        "    for i in range(len(s)):\n",
        "        sum += (26**i)*(ord(s[-1-i])-64)\n",
        "    return sum\n",
        "\n",
        "titleToNumber('NA')\n"
      ]
    },
    {
      "cell_type": "code",
      "execution_count": null,
      "metadata": {
        "colab": {
          "base_uri": "https://localhost:8080/"
        },
        "id": "bIVsMIHZrkmW",
        "outputId": "34e22785-9ef4-4095-f657-351cf34f14ce"
      },
      "outputs": [
        {
          "data": {
            "text/plain": [
              "43261596"
            ]
          },
          "execution_count": 27,
          "metadata": {},
          "output_type": "execute_result"
        }
      ],
      "source": [
        "#31- Reverse Bits\n",
        "def reverseBits(n):\n",
        "  n = bin(n)[2:]\n",
        "  n = (32-len(n))*'0'+ n\n",
        "  n = n[::-1]\n",
        "  return int(n,2)\n",
        "\n",
        "reverseBits(964176192)"
      ]
    },
    {
      "cell_type": "code",
      "execution_count": null,
      "metadata": {
        "colab": {
          "base_uri": "https://localhost:8080/"
        },
        "id": "EZpu1XkAusMf",
        "outputId": "b3cf574d-2e52-4479-d494-431955e6ecd4"
      },
      "outputs": [
        {
          "data": {
            "text/plain": [
              "30"
            ]
          },
          "execution_count": 31,
          "metadata": {},
          "output_type": "execute_result"
        }
      ],
      "source": [
        "#32- Number of 1 Bits\n",
        "def hammingWeight(n):\n",
        "  n = bin(n)[2:]\n",
        "  x = [1 for item in n if item == '1']\n",
        "  return sum(x)\n",
        "\n",
        "hammingWeight(2147483645)"
      ]
    },
    {
      "cell_type": "code",
      "execution_count": null,
      "metadata": {
        "colab": {
          "base_uri": "https://localhost:8080/"
        },
        "id": "UZqonWDtxRo1",
        "outputId": "c736c372-a645-4ad2-9fc3-57a9a9bca60f"
      },
      "outputs": [
        {
          "data": {
            "text/plain": [
              "True"
            ]
          },
          "execution_count": 42,
          "metadata": {},
          "output_type": "execute_result"
        }
      ],
      "source": [
        "#33- Happy Number\n",
        "# pass the set of seen n every time and check if n == 1 return True, if n is in seen return False\n",
        "def isHappy(n):\n",
        "  return helper(n,set())\n",
        "def helper(n,seen):\n",
        "  if n == 1:\n",
        "    return True\n",
        "  if n in seen:\n",
        "    return False\n",
        "  seen.add(n)\n",
        "  next_n = sum([int(digit)**2 for digit in str(n)])\n",
        "\n",
        "  return helper(next_n,seen)\n",
        "isHappy(19)"
      ]
    },
    {
      "cell_type": "code",
      "execution_count": null,
      "metadata": {
        "id": "P3y9x4Kr0-tD"
      },
      "outputs": [],
      "source": [
        "#34- Reverse Linked List\n",
        "#Learn\n",
        "# Becareful of  if next is not None:\n",
        "class ListNode:\n",
        "    def __init__(self, val=0, next=None):\n",
        "        self.val = val\n",
        "        self.next = next\n",
        "\n",
        "a = ListNode(1)\n",
        "b = ListNode(2)\n",
        "c = ListNode(2)\n",
        "d = ListNode(1)\n",
        "a.next = b\n",
        "b.next = c\n",
        "c.next = d\n",
        "\n",
        "def reverseList(head):\n",
        "  if head is None:\n",
        "    return head\n",
        "  if head.next is None:\n",
        "    return head\n",
        "  dummy = None\n",
        "  dummy_ = ListNode()\n",
        "  prev = dummy\n",
        "  cur = head\n",
        "  next = cur.next\n",
        "\n",
        "  while cur:\n",
        "    cur.next = prev\n",
        "    prev = cur\n",
        "    cur = next\n",
        "    if next is not None:\n",
        "      next = next.next\n",
        "    else:\n",
        "      break\n",
        "\n",
        "# reverseList(a)\n",
        "\n",
        "\n"
      ]
    },
    {
      "cell_type": "code",
      "execution_count": null,
      "metadata": {
        "colab": {
          "base_uri": "https://localhost:8080/"
        },
        "id": "htH1_O8E6qhv",
        "outputId": "db66ff8d-6448-4488-d0f4-11de6d2aa7d6"
      },
      "outputs": [
        {
          "data": {
            "text/plain": [
              "True"
            ]
          },
          "execution_count": 84,
          "metadata": {},
          "output_type": "execute_result"
        }
      ],
      "source": [
        "#35- Contains Duplicate\n",
        "# write with Set, is faster\n",
        "nums = [1,2,3,4,3]\n",
        "def containsDuplicate(nums):\n",
        "  res = set()\n",
        "  for n in nums:\n",
        "    if n not in res:\n",
        "      res.add(n)\n",
        "    else:\n",
        "      return True\n",
        "  return False\n",
        "\n",
        "containsDuplicate(nums)\n"
      ]
    },
    {
      "cell_type": "code",
      "execution_count": null,
      "metadata": {
        "colab": {
          "base_uri": "https://localhost:8080/"
        },
        "id": "TUbdQWUo8Df9",
        "outputId": "475b1d26-9305-4464-96d8-a1a9389c809d"
      },
      "outputs": [
        {
          "data": {
            "text/plain": [
              "True"
            ]
          },
          "execution_count": 93,
          "metadata": {},
          "output_type": "execute_result"
        }
      ],
      "source": [
        "#36- Palindrome Linked List\n",
        "\n",
        "def isPalindrome(head):\n",
        "  cur = head\n",
        "  res = []\n",
        "  while cur:\n",
        "    res.append(cur.val)\n",
        "    cur = cur.next\n",
        "  return res == res[::-1]\n",
        "\n",
        "isPalindrome(a)"
      ]
    },
    {
      "cell_type": "code",
      "execution_count": null,
      "metadata": {
        "colab": {
          "base_uri": "https://localhost:8080/"
        },
        "id": "ftUJ3QrL_jcv",
        "outputId": "738665b0-1bc8-4c30-9f18-e036c44433a0"
      },
      "outputs": [
        {
          "data": {
            "text/plain": [
              "True"
            ]
          },
          "execution_count": 119,
          "metadata": {},
          "output_type": "execute_result"
        }
      ],
      "source": [
        "#37- Valid Anagram\n",
        "# Check solution2 is as well\n",
        "\n",
        "s = \"anagram\"\n",
        "t = \"nagaram\"\n",
        "def isAnagram(s,t):\n",
        "    if len(s) != len(t):\n",
        "        return False\n",
        "    return sorted(s) == sorted(t)\n",
        "\n",
        "def isAnagram_(s,t):\n",
        "  if len(s) != len(t):\n",
        "    return False\n",
        "  counter = [0]*26\n",
        "\n",
        "  for i in range(len(s)):\n",
        "    counter[ord(s[i])-ord('a')] += 1\n",
        "    counter[ord(t[i])-ord('a')] -= 1\n",
        "  return counter == [0]*len(counter)\n",
        "\n",
        "isAnagram_(s,t)\n"
      ]
    },
    {
      "cell_type": "code",
      "execution_count": null,
      "metadata": {
        "colab": {
          "base_uri": "https://localhost:8080/"
        },
        "id": "qSmOR-G4AST6",
        "outputId": "b16f975e-01a8-4377-fd9d-22cb3b4d095f"
      },
      "outputs": [
        {
          "data": {
            "text/plain": [
              "3"
            ]
          },
          "execution_count": 124,
          "metadata": {},
          "output_type": "execute_result"
        }
      ],
      "source": [
        "#38- Missing Number\n",
        "nums = [0,1,2,4]\n",
        "def missingNumber(nums):\n",
        "  n = len(nums)\n",
        "  return int((n*(n+1))/2 - sum(nums))\n",
        "missingNumber(nums)"
      ]
    },
    {
      "cell_type": "code",
      "execution_count": null,
      "metadata": {
        "colab": {
          "base_uri": "https://localhost:8080/"
        },
        "id": "BpeinuPKDu2a",
        "outputId": "fcc0e25d-7977-445e-afb1-29b98a4a73d4"
      },
      "outputs": [
        {
          "data": {
            "text/plain": [
              "[1, 3, 12, 0, 0]"
            ]
          },
          "execution_count": 126,
          "metadata": {},
          "output_type": "execute_result"
        }
      ],
      "source": [
        "#39- Move Zeroes\n",
        "nums = [0,1,0,3,12]\n",
        "def moveZeroes(nums):\n",
        "  n = 0\n",
        "  while n<len(nums):\n",
        "    if nums[n] == 0:\n",
        "      nums.remove(0)\n",
        "      nums.append(0)\n",
        "    n+=1\n",
        "  return nums\n",
        "moveZeroes(nums)"
      ]
    },
    {
      "cell_type": "code",
      "execution_count": null,
      "metadata": {
        "colab": {
          "base_uri": "https://localhost:8080/"
        },
        "id": "g5zye2wGE_9j",
        "outputId": "b0b9245c-88a1-4dcf-bd9d-06c7e696304d"
      },
      "outputs": [
        {
          "name": "stdout",
          "output_type": "stream",
          "text": [
            "9 0\n",
            "3.0 1\n",
            "1.0 2\n"
          ]
        },
        {
          "data": {
            "text/plain": [
              "True"
            ]
          },
          "execution_count": 142,
          "metadata": {},
          "output_type": "execute_result"
        }
      ],
      "source": [
        "#40- Power of Three\n",
        "def isPowerOfThree(n):\n",
        "  k = 0\n",
        "  return helper(n,k)\n",
        "def helper(n,k):\n",
        "  print(n,k)\n",
        "  if n == 1:\n",
        "    return True\n",
        "  if n<1:\n",
        "    return False\n",
        "  k +=1\n",
        "  return helper(n/3,k)\n",
        "\n",
        "isPowerOfThree(9)"
      ]
    },
    {
      "cell_type": "code",
      "execution_count": null,
      "metadata": {
        "colab": {
          "base_uri": "https://localhost:8080/"
        },
        "id": "YBk608gxG-Jl",
        "outputId": "d17a96b8-9935-4d11-d2ac-c25b89b8fc37"
      },
      "outputs": [
        {
          "name": "stdout",
          "output_type": "stream",
          "text": [
            "0\n",
            "1\n"
          ]
        },
        {
          "data": {
            "text/plain": [
              "['o', 'l', 'l', 'e', 'h']"
            ]
          },
          "execution_count": 150,
          "metadata": {},
          "output_type": "execute_result"
        }
      ],
      "source": [
        "#41- Reverse String\n",
        "s = [\"h\",\"e\",\"l\",\"l\",\"o\"]\n",
        "def reverseString(s):\n",
        "  for i in range(len(s)//2):\n",
        "      print(i)\n",
        "      s[i], s[-1-i] = s[-1-i], s[i]\n",
        "  return s\n",
        "\n",
        "reverseString(s)"
      ]
    },
    {
      "cell_type": "code",
      "execution_count": null,
      "metadata": {
        "colab": {
          "base_uri": "https://localhost:8080/"
        },
        "id": "SlTzQfT3IqgK",
        "outputId": "3e165a8a-b652-49c3-be2c-dfabd59b4a78"
      },
      "outputs": [
        {
          "name": "stdout",
          "output_type": "stream",
          "text": [
            "[9, 4, 9, 8, 4]\n"
          ]
        },
        {
          "data": {
            "text/plain": [
              "[4, 9]"
            ]
          },
          "execution_count": 167,
          "metadata": {},
          "output_type": "execute_result"
        }
      ],
      "source": [
        "#42- Intersection of Two Arrays II\n",
        "nums1 = [4,9,5]\n",
        "nums2 = [9,4,9,8,4]\n",
        "def intersect(nums1, nums2):\n",
        "  res = []\n",
        "  if len(nums1) < len(nums2):\n",
        "    nums1, nums2 = nums2, nums1\n",
        "\n",
        "  print(nums1)\n",
        "  for item in nums2:\n",
        "    if item in nums1:\n",
        "      nums1.remove(item)\n",
        "      res.append(item)\n",
        "  return res\n",
        "\n",
        "intersect(nums1,nums2)"
      ]
    },
    {
      "cell_type": "code",
      "execution_count": null,
      "metadata": {
        "colab": {
          "base_uri": "https://localhost:8080/"
        },
        "id": "ZzLxLQltNAq-",
        "outputId": "01ce7894-332f-4cfa-fe4e-b1d6f0fb0a80"
      },
      "outputs": [
        {
          "data": {
            "text/plain": [
              "0"
            ]
          },
          "execution_count": 185,
          "metadata": {},
          "output_type": "execute_result"
        }
      ],
      "source": [
        "#43- First Unique Character in a String\n",
        "s = 'leetcode'\n",
        "def firstUniqChar(s):\n",
        "  counter = [0]*26\n",
        "  for i in range(len(s)):\n",
        "    counter[ord(s[i])-ord('a')]+=1\n",
        "  for i in range(len(s)):\n",
        "    if counter[ord(s[i])-ord('a')] == 1:\n",
        "      return i\n",
        "  return -1\n",
        "\n",
        "\n",
        "\n",
        "firstUniqChar(s)"
      ]
    },
    {
      "cell_type": "code",
      "execution_count": null,
      "metadata": {
        "colab": {
          "base_uri": "https://localhost:8080/"
        },
        "id": "M1fK3FzCOTHq",
        "outputId": "5a6de958-2998-4824-a5c5-e81660667abb"
      },
      "outputs": [
        {
          "data": {
            "text/plain": [
              "['1', '2']"
            ]
          },
          "execution_count": 6,
          "metadata": {},
          "output_type": "execute_result"
        }
      ],
      "source": [
        "#44- Fizz Buzz\n",
        "def fizzBuzz(n):\n",
        "  res = []\n",
        "  for i in range(1,n+1):\n",
        "    if i%15 == 0:\n",
        "      res.append(\"FizzBuzz\")\n",
        "    elif i%5 == 0:\n",
        "      res.append(\"Buzz\")\n",
        "    elif i%3 == 0:\n",
        "      res.append(\"Fizz\")\n",
        "    else:\n",
        "      res.append(str(i))\n",
        "  return res\n",
        "\n",
        "fizzBuzz(2)\n"
      ]
    },
    {
      "cell_type": "markdown",
      "metadata": {
        "id": "PUtyBIqb1X7O"
      },
      "source": [
        "# Medium"
      ]
    },
    {
      "cell_type": "code",
      "execution_count": null,
      "metadata": {
        "colab": {
          "base_uri": "https://localhost:8080/"
        },
        "id": "brptp0Fc1WxB",
        "outputId": "6375bcc9-207e-4668-87f8-03ba2c33befb"
      },
      "outputs": [
        {
          "name": "stdout",
          "output_type": "stream",
          "text": [
            "0\n",
            "1\n",
            "1\n",
            "0\n",
            "1\n"
          ]
        }
      ],
      "source": [
        "#1- Add Two Number\n",
        "# Learn Learn\n",
        "# or carry !=0, because if we have carry at the last node we should consider it in other nodes even when we dont have nodes (ex: 111, 999)\n",
        "class ListNode:\n",
        "    def __init__(self, val=0, next=None):\n",
        "        self.val = val\n",
        "        self.next = next\n",
        "\n",
        "a = ListNode(9)\n",
        "b = ListNode(9)\n",
        "c = ListNode(9)\n",
        "g = ListNode(9)\n",
        "\n",
        "a.next = b\n",
        "b.next = c\n",
        "c.next = g\n",
        "\n",
        "d = ListNode(1)\n",
        "e = ListNode(1)\n",
        "f = ListNode(1)\n",
        "d.next = e\n",
        "e.next = f\n",
        "\n",
        "\n",
        "def addTwoNumbers(l1,l2):\n",
        "  cur1 = l1\n",
        "  cur2 = l2\n",
        "  cur3 = ListNode()\n",
        "  dummy = cur3\n",
        "  carry = 0\n",
        "\n",
        "  while cur1 is not None or cur2 is not None or carry !=0:\n",
        "    val1 = cur1.val if cur1 is not None else 0\n",
        "    val2 = cur2.val if cur2 is not None else 0\n",
        "    value = val1+ val2 + carry\n",
        "    if value>9:\n",
        "      carry = 1\n",
        "      cur3.next = ListNode(value%10)\n",
        "    else:\n",
        "      carry = 0\n",
        "      cur3.next = ListNode(value)\n",
        "\n",
        "    cur1 = cur1.next if cur1 is not None else None\n",
        "    cur2 = cur2.next if cur2 is not None else None\n",
        "    cur3 = cur3.next\n",
        "\n",
        "\n",
        "\n",
        "k = addTwoNumbers(a,d)\n",
        "printNode(k)"
      ]
    },
    {
      "cell_type": "code",
      "execution_count": null,
      "metadata": {
        "colab": {
          "base_uri": "https://localhost:8080/"
        },
        "id": "X3G8Jw4nDq3p",
        "outputId": "83583f9d-4456-4086-8ed4-05d16dcfa185"
      },
      "outputs": [
        {
          "data": {
            "text/plain": [
              "3"
            ]
          },
          "execution_count": 92,
          "metadata": {},
          "output_type": "execute_result"
        }
      ],
      "source": [
        "#2- Longest Substring Without Repeating Characters\n",
        "s= 'pwwkew'\n",
        "def lengthOfLongestSubstring(s):\n",
        "  max_ = 0\n",
        "  char_set = set()\n",
        "  left = right = 0\n",
        "\n",
        "  for right in range(len(s)):\n",
        "    while s[right] in char_set:\n",
        "      char_set.remove(s[left])\n",
        "      left+=1\n",
        "\n",
        "    char_set.add(s[right])\n",
        "    max_ = max(max_, right-left+1)\n",
        "\n",
        "\n",
        "  return max_\n",
        "lengthOfLongestSubstring(s)\n",
        "\n",
        "\n",
        "\n"
      ]
    },
    {
      "cell_type": "code",
      "execution_count": null,
      "metadata": {
        "colab": {
          "base_uri": "https://localhost:8080/",
          "height": 35
        },
        "id": "_YG_M1X8OojU",
        "outputId": "18eed94f-5f2e-4e5d-f319-5d781f37b56c"
      },
      "outputs": [
        {
          "data": {
            "application/vnd.google.colaboratory.intrinsic+json": {
              "type": "string"
            },
            "text/plain": [
              "'bab'"
            ]
          },
          "execution_count": 99,
          "metadata": {},
          "output_type": "execute_result"
        }
      ],
      "source": [
        "#3- Longest Palindromic Substring\n",
        "#Brut force\n",
        "s = \"babad\"\n",
        "def longestPalindrome(s):\n",
        "  max_ = 0\n",
        "  p_string = ''\n",
        "\n",
        "  for i in range(len(s)):\n",
        "    for j in range(i,len(s)):\n",
        "      val = s[i:j+1]\n",
        "      if val == val[::-1] and j-i+1>max_:\n",
        "        max_ = len(val)\n",
        "        p_string = val\n",
        "    return p_string\n",
        "longestPalindrome(s)"
      ]
    },
    {
      "cell_type": "code",
      "execution_count": null,
      "metadata": {
        "colab": {
          "base_uri": "https://localhost:8080/"
        },
        "id": "9rxZt4C6qqCb",
        "outputId": "26742699-36c5-4b46-bc2e-7e624a305e86"
      },
      "outputs": [
        {
          "data": {
            "text/plain": [
              "-21"
            ]
          },
          "execution_count": 5,
          "metadata": {},
          "output_type": "execute_result"
        }
      ],
      "source": [
        "#4- Reverse Integer\n",
        "\n",
        "def reverse(x):\n",
        "  negative_flag = 1\n",
        "  s = str(x)\n",
        "  if s[0]==\"-\":\n",
        "    negative_flag = -1\n",
        "    s = s[1:]\n",
        "  s = s[::-1]\n",
        "  x = int(s)*negative_flag\n",
        "  if x>= 2**31 -1 or x<= -2**31:\n",
        "    return 0\n",
        "  else:\n",
        "    return x\n",
        "\n",
        "x = -120\n",
        "reverse(x)\n"
      ]
    },
    {
      "cell_type": "code",
      "execution_count": null,
      "metadata": {
        "colab": {
          "base_uri": "https://localhost:8080/"
        },
        "id": "iS8hXvghsnpK",
        "outputId": "52f1b3e1-bfb1-4e37-cf15-d696c90adb96"
      },
      "outputs": [
        {
          "data": {
            "text/plain": [
              "-42"
            ]
          },
          "execution_count": 26,
          "metadata": {},
          "output_type": "execute_result"
        }
      ],
      "source": [
        "#5- String to Integer (atoi)\n",
        "def myAtoi(s):\n",
        "  if len(s)== 0:\n",
        "      return 0\n",
        "  res = []\n",
        "  i = 0\n",
        "  l = len(s)\n",
        "  while s[i] == ' ':\n",
        "      i+=1\n",
        "      if i==l:\n",
        "          return 0\n",
        "\n",
        "  s = s[i:]\n",
        "  negative_flag = 1\n",
        "  if s[0]==\"-\":\n",
        "      negative_flag = -1\n",
        "      s = s[1:]\n",
        "  elif s[0] == \"+\":\n",
        "      s = s[1:]\n",
        "  for k in range(len(s)):\n",
        "      if not s[k].isdigit():\n",
        "          break\n",
        "      else:\n",
        "          res.append(s[k])\n",
        "\n",
        "  if len(res) == 0:\n",
        "      return 0\n",
        "  else:\n",
        "      x = int(''.join(tuple(res)))*negative_flag\n",
        "      if x>2**31 -1:\n",
        "          return 2**31 - 1\n",
        "      elif x < -2**31:\n",
        "          return -2**31\n",
        "      else:\n",
        "          return x\n",
        "\n",
        "\n",
        "s = \"   -042\"\n",
        "myAtoi(s)"
      ]
    },
    {
      "cell_type": "code",
      "execution_count": null,
      "metadata": {
        "colab": {
          "base_uri": "https://localhost:8080/"
        },
        "id": "W23u9YDAzbRh",
        "outputId": "083f5605-7324-46c1-efc7-3ddeaab3bd27"
      },
      "outputs": [
        {
          "data": {
            "text/plain": [
              "1"
            ]
          },
          "execution_count": 41,
          "metadata": {},
          "output_type": "execute_result"
        }
      ],
      "source": [
        "#6- Container With Most Water\n",
        "# Awesome\n",
        "# Two pointer\n",
        "# got solved first time\n",
        "height = [1,1]\n",
        "def maxArea(height):\n",
        "  i = 0\n",
        "  j = len(height)-1\n",
        "  max_area = 0\n",
        "  while i<j:\n",
        "    h = min(height[i],height[j])\n",
        "    w = j-i\n",
        "    area = h*w\n",
        "    max_area = max(area,max_area)\n",
        "    if height[i]<= height[j]:\n",
        "      i+=1\n",
        "    else: j-=1\n",
        "  return max_area\n",
        "\n",
        "\n",
        "maxArea(height)\n",
        "\n"
      ]
    },
    {
      "cell_type": "code",
      "execution_count": null,
      "metadata": {
        "colab": {
          "base_uri": "https://localhost:8080/"
        },
        "id": "sq4c7AEw6-FX",
        "outputId": "5a096be9-ba22-4e48-e61b-9b44b0dc8fbe"
      },
      "outputs": [
        {
          "data": {
            "text/plain": [
              "[-4, -1, -1, 0, 1, 2]"
            ]
          },
          "execution_count": 61,
          "metadata": {},
          "output_type": "execute_result"
        }
      ],
      "source": [
        "nums = [-1,0,1,2,-1,-4]\n",
        "nums.sort()\n",
        "nums"
      ]
    },
    {
      "cell_type": "code",
      "execution_count": null,
      "metadata": {
        "colab": {
          "base_uri": "https://localhost:8080/"
        },
        "id": "297uS1qc2VuP",
        "outputId": "d95060cd-f6fa-422f-8087-cded014b856e"
      },
      "outputs": [
        {
          "data": {
            "text/plain": [
              "[[-4, 0, 4],\n",
              " [-4, 1, 3],\n",
              " [-3, -1, 4],\n",
              " [-3, 0, 3],\n",
              " [-3, 1, 2],\n",
              " [-2, -1, 3],\n",
              " [-2, 0, 2],\n",
              " [-1, -1, 2],\n",
              " [-1, 0, 1]]"
            ]
          },
          "execution_count": 41,
          "metadata": {},
          "output_type": "execute_result"
        }
      ],
      "source": [
        "#7- 3Sum\n",
        "# Awesome\n",
        "# Three pointer\n",
        "# Don't forget to calculate total = nums[i] + nums[k] + nums[l] and then compare with total(if total>0 come from end, if total<0 come from first)\n",
        "# Don't forget to sort\n",
        "nums = [-1,0,1,2,-1,-4,-2,-3,3,0,4]\n",
        "def threeSum(nums):\n",
        "    res = []\n",
        "    nums.sort()\n",
        "    n = len(nums)\n",
        "    for i in range(n):\n",
        "        if i > 0 and nums[i] == nums[i - 1]:\n",
        "            continue\n",
        "        k = i+1\n",
        "        l = n-1\n",
        "        while k<l:\n",
        "            total = nums[i] + nums[k] + nums[l]\n",
        "\n",
        "            if total>0:\n",
        "                l-=1\n",
        "            elif total<0:\n",
        "                k+=1\n",
        "            else:\n",
        "                val = [nums[i],nums[k],nums[l]]\n",
        "                res.append(val) if val not in res else None\n",
        "                # while k < l and nums[k] == nums[k + 1]:\n",
        "                #     k += 1\n",
        "                # while k < l and nums[l] == nums[l - 1]:\n",
        "                #     l -= 1\n",
        "                l-=1\n",
        "                k+=1\n",
        "    return res\n",
        "\n",
        "threeSum(nums)\n"
      ]
    },
    {
      "cell_type": "code",
      "execution_count": null,
      "metadata": {
        "colab": {
          "base_uri": "https://localhost:8080/"
        },
        "id": "_oXMwttVB1SZ",
        "outputId": "65feed45-c73b-41f6-c4ea-9d107169cce5"
      },
      "outputs": [
        {
          "data": {
            "text/plain": [
              "['a', 'b', 'c']"
            ]
          },
          "execution_count": 34,
          "metadata": {},
          "output_type": "execute_result"
        }
      ],
      "source": [
        "#8- Letter Combinations of a Phone Number\n",
        "def letterCombinations(digits):\n",
        "  num_dic = {\"2\":\"abc\", \"3\":\"def\", \"4\":\"ghi\", \"5\":\"jkl\", \"6\":\"mno\", \"7\":\"pqrs\", \"8\":\"tuv\", \"9\":\"wxyz\"}\n",
        "  if len(digits) == 0:\n",
        "    return []\n",
        "\n",
        "  elif len(digits) == 1:\n",
        "    x = num_dic[digits]\n",
        "    return [a for a in x]\n",
        "\n",
        "  elif len(digits) == 2:\n",
        "    x = num_dic[digits[0]]\n",
        "    y = num_dic[digits[1]]\n",
        "    return [a+b for a in x for b in y]\n",
        "\n",
        "  elif len(digits) == 3:\n",
        "    x = num_dic[digits[0]]\n",
        "    y = num_dic[digits[1]]\n",
        "    z = num_dic[digits[2]]\n",
        "    return [a+b+c for a in x for b in y for c in z]\n",
        "\n",
        "  elif len(digits) == 4:\n",
        "    x = num_dic[digits[0]]\n",
        "    y = num_dic[digits[1]]\n",
        "    z = num_dic[digits[2]]\n",
        "    w = num_dic[digits[3]]\n",
        "    return [a+b+c+d for a in x for b in y for c in z for d in w]\n",
        "\n",
        "\n",
        "letterCombinations(\"2\")\n"
      ]
    },
    {
      "cell_type": "code",
      "execution_count": null,
      "metadata": {
        "colab": {
          "base_uri": "https://localhost:8080/"
        },
        "id": "xhq1OpnD7yYX",
        "outputId": "36a3d608-e58d-4560-e163-1493fa7d52eb"
      },
      "outputs": [
        {
          "data": {
            "text/plain": [
              "[[-2, -1, 1, 2], [-2, 0, 0, 2], [-1, 0, 0, 1]]"
            ]
          },
          "execution_count": 58,
          "metadata": {},
          "output_type": "execute_result"
        }
      ],
      "source": [
        "#9- 4Sum\n",
        "def fourSum(nums, target):\n",
        "    \"\"\"\n",
        "    :type nums: List[int]\n",
        "    :type target: int\n",
        "    :rtype: List[List[int]]\n",
        "    \"\"\"\n",
        "    res = []\n",
        "    nums.sort()\n",
        "    n = len(nums)\n",
        "    for i in range(n):\n",
        "        if i>0 and nums[i] == nums[i-1]:\n",
        "            continue\n",
        "        for j in range(i+1,n):\n",
        "            left = j+1\n",
        "            right = n-1\n",
        "            while left<right:\n",
        "                total = nums[i] + nums[j] + nums[left] + nums[right]\n",
        "                if total>target:\n",
        "                    right -=1\n",
        "                elif total<target:\n",
        "                    left+=1\n",
        "                else:\n",
        "                    val = [nums[i], nums[j], nums[left],nums[right]]\n",
        "                    res.append(val) if val not in res else None\n",
        "                    left+=1\n",
        "                    right-=1\n",
        "    return res\n",
        "\n",
        "fourSum(nums,target)"
      ]
    },
    {
      "cell_type": "code",
      "execution_count": null,
      "metadata": {
        "colab": {
          "base_uri": "https://localhost:8080/"
        },
        "id": "oxE8YnH_D20F",
        "outputId": "fa13dbf5-075c-42f4-f506-9538be0b581b"
      },
      "outputs": [
        {
          "name": "stdout",
          "output_type": "stream",
          "text": [
            "2\n"
          ]
        }
      ],
      "source": [
        "#10- Remove Nth Node From End of List\n",
        "#Awesome\n",
        "# Got Solved First Time\n",
        "# Initialze fast and slow with dummy and return dummy.next\n",
        "class ListNode(object):\n",
        "    def __init__(self, val=0, next=None):\n",
        "        self.val = val\n",
        "        self.next = next\n",
        "\n",
        "a = ListNode(1)\n",
        "b = ListNode(2)\n",
        "# c = ListNode(3)\n",
        "# d = ListNode(4)\n",
        "a.next = b\n",
        "# b.next = c\n",
        "# c.next = d\n",
        "# d.next = None\n",
        "\n",
        "def removeNthFromEnd(head,n):\n",
        "\n",
        "  dummy = ListNode()\n",
        "  slow = dummy\n",
        "  fast = dummy\n",
        "  dummy.next = head\n",
        "  i = 0\n",
        "  while i<n:\n",
        "    fast = fast.next\n",
        "    # print(fast.val,\"hi\")\n",
        "    i+=1\n",
        "  # print(fast.val)\n",
        "  if fast is None:\n",
        "    slow.next = slow.next.next if slow.next is not None else None\n",
        "    return head\n",
        "  while fast.next is not None:\n",
        "    slow = slow.next\n",
        "    fast = fast.next\n",
        "  slow.next = slow.next.next\n",
        "  return dummy.next\n",
        "\n",
        "# printNode(a)\n",
        "printNode(removeNthFromEnd(a,2))\n"
      ]
    },
    {
      "cell_type": "code",
      "execution_count": null,
      "metadata": {
        "colab": {
          "base_uri": "https://localhost:8080/"
        },
        "id": "zFESp4AZMu7H",
        "outputId": "91d232e7-c1ed-444b-cafe-194f5c2b1a04"
      },
      "outputs": [
        {
          "name": "stdout",
          "output_type": "stream",
          "text": [
            "['(())', '()()']\n"
          ]
        }
      ],
      "source": [
        "#11- Generate Parentheses\n",
        "def generateParenthesis(n):\n",
        "  answer = []\n",
        "  bt(answer,0,0,\"\",n)\n",
        "  return answer\n",
        "def bt(answer,leftCount,rightCount,currentString,n):\n",
        "\n",
        "  if len(currentString) == 2*n:\n",
        "    answer.append(currentString)\n",
        "    return\n",
        "\n",
        "\n",
        "  if leftCount<n:\n",
        "    bt(answer, leftCount+1,rightCount,currentString + \"(\",n)\n",
        "\n",
        "  if leftCount>rightCount:\n",
        "    bt(answer, leftCount,rightCount+1,currentString + \")\",n)\n",
        "\n",
        "\n",
        "# def generateParenthesis_(n):\n",
        "#         res = []\n",
        "#         return dfs_(res, 0, 0, \"\",n)\n",
        "\n",
        "# def dfs_(res, openP, closeP, s,n):\n",
        "#     if openP>n:\n",
        "#       return [s]\n",
        "#     if closeP>openP:\n",
        "#       return [s]\n",
        "#     close = dfs_(res, openP + 1, closeP, s + \"(\",n)\n",
        "#     open = dfs_(res, openP, closeP + 1, s + \")\",n)\n",
        "#     # print(open)\n",
        "\n",
        "#     return close + open + [s]\n",
        "\n",
        "\n",
        "print(generateParenthesis(2))"
      ]
    },
    {
      "cell_type": "code",
      "execution_count": null,
      "metadata": {
        "colab": {
          "base_uri": "https://localhost:8080/"
        },
        "id": "GnwBcgzQXCHF",
        "outputId": "8f80f26c-7cd7-4d31-b764-c75232067140"
      },
      "outputs": [
        {
          "data": {
            "text/plain": [
              "3"
            ]
          },
          "execution_count": 75,
          "metadata": {},
          "output_type": "execute_result"
        }
      ],
      "source": [
        "#12- Divide Two Integers\n",
        "# Without using multiplication, division and mod\n",
        "# make both negative and count the negative signs\n",
        "# double the dividor until you surpass the dividend, then subtract the dividend from last value of doubling, repeat the process while divisor >= dividend(because they are negative!!)\n",
        "dividend = 10\n",
        "divisor = 3\n",
        "\n",
        "def divide(dividend, divisor):\n",
        "    MAX_INT = 2147483647\n",
        "    MIN_INT = -2147483648\n",
        "    HALF_MIN_INT = -1073741824\n",
        "\n",
        "    if dividend == MIN_INT and divisor == -1:\n",
        "        return MAX_INT\n",
        "\n",
        "    negatives = 2\n",
        "    if dividend > 0:\n",
        "        negatives -= 1\n",
        "        dividend = -dividend\n",
        "    if divisor > 0:\n",
        "        negatives -= 1\n",
        "        divisor = -divisor\n",
        "\n",
        "    quotient = 0\n",
        "    while divisor >= dividend:\n",
        "        powerOfTwo = -1\n",
        "        value = divisor\n",
        "        while value >= HALF_MIN_INT and value + value >= dividend:\n",
        "            value += value\n",
        "            powerOfTwo += powerOfTwo\n",
        "\n",
        "        quotient += powerOfTwo\n",
        "        dividend -= value\n",
        "\n",
        "    return -quotient if negatives != 1 else quotient\n",
        "\n",
        "divide(dividend, divisor)"
      ]
    },
    {
      "cell_type": "code",
      "execution_count": 2,
      "metadata": {
        "colab": {
          "base_uri": "https://localhost:8080/"
        },
        "id": "f2c4FpNEiliI",
        "outputId": "4ce28cc0-d88e-42ea-f39b-dbed4748e607"
      },
      "outputs": [
        {
          "name": "stdout",
          "output_type": "stream",
          "text": [
            "4\n",
            "0\n"
          ]
        },
        {
          "data": {
            "text/plain": [
              "9"
            ]
          },
          "execution_count": 2,
          "metadata": {},
          "output_type": "execute_result"
        }
      ],
      "source": [
        "# adding two numbers without using + or sum\n",
        "# don't forget to first calculate the carry\n",
        "def add(x,y):\n",
        "  while y!=0:\n",
        "    # print(x,y)\n",
        "    carry = x&y\n",
        "    print(carry)\n",
        "    x = x^y\n",
        "    y = carry<<1\n",
        "  return x\n",
        "add(4,5)\n"
      ]
    },
    {
      "cell_type": "markdown",
      "metadata": {},
      "source": [
        "# Problem 13: Substring with Concatenation of All Words\n",
        "\n",
        "## Description\n",
        "\n",
        "Given a string `s` and an array of strings `words` where all strings in `words` are of the same length, determine the starting indices of all substrings in `s` that are a concatenation of every string in any permutation of `words`.\n",
        "\n",
        "**Example:** If `words = [\"ab\", \"cd\", \"ef\"]`, valid concatenated strings include \"abcdef\", \"abefcd\", \"cdabef\", \"cdefab\", \"efabcd\", and \"efcdab\". The string \"acdbef\" is not a valid concatenated string as it does not represent a permutation of `words`.\n",
        "\n",
        "## Examples\n",
        "\n",
        "### Example 1\n",
        "\n",
        "**Input:**  \n",
        "`s = \"barfoothefoobarman\"`  \n",
        "`words = [\"foo\", \"bar\"]`\n",
        "\n",
        "**Output:**  \n",
        "`[0, 9]`\n",
        "\n",
        "**Explanation:**  \n",
        "- Substring starting at index `0`: \"barfoo\", concatenation of `[\"bar\", \"foo\"]`.\n",
        "- Substring starting at index `9`: \"foobar\", concatenation of `[\"foo\", \"bar\"]`.\n",
        "\n",
        "### Example 2\n",
        "\n",
        "**Input:**  \n",
        "`s = \"wordgoodgoodgoodbestword\"`  \n",
        "`words = [\"word\", \"good\", \"best\", \"word\"]`\n",
        "\n",
        "**Output:**  \n",
        "`[]`\n",
        "\n",
        "**Explanation:**  \n",
        "- There is no concatenated substring that matches the criteria.\n",
        "\n",
        "### Example 3\n",
        "\n",
        "**Input:**  \n",
        "`s = \"barfoofoobarthefoobarman\"`  \n",
        "`words = [\"bar\", \"foo\", \"the\"]`\n",
        "\n",
        "**Output:**  \n",
        "`[6, 9, 12]`\n",
        "\n",
        "**Explanation:**  \n",
        "- Substring starting at index `6`: \"foobarthe\", concatenation of `[\"foo\", \"bar\", \"the\"]`.\n",
        "- Substring starting at index `9`: \"barthefoo\", concatenation of `[\"bar\", \"the\", \"foo\"]`.\n",
        "- Substring starting at index `12`: \"thefoobar\", concatenation of `[\"the\", \"foo\", \"bar\"]`.\n",
        "\n",
        "## Constraints\n",
        "\n",
        "- `1 <= s.length <= 104`\n",
        "- `1 <= words.length <= 5000`\n",
        "- `1 <= words[i].length <= 30`\n",
        "- `s` and `words[i]` consist of lowercase English letters.\n"
      ]
    },
    {
      "cell_type": "code",
      "execution_count": 65,
      "metadata": {
        "colab": {
          "base_uri": "https://localhost:8080/"
        },
        "id": "0hOWkTuFU0im",
        "outputId": "a74f7f9d-5828-4d90-ad4f-ec913e90faa2"
      },
      "outputs": [
        {
          "data": {
            "text/plain": [
              "[13]"
            ]
          },
          "execution_count": 65,
          "metadata": {},
          "output_type": "execute_result"
        }
      ],
      "source": [
        "#13- Substring with Concatenation of All Words\n",
        "# FInd the len of conctae words = len(words)*len(words[0])\n",
        "# Use while and for each concate words spilt it into chcnks of words.\n",
        "# Compare the sorted chunks array with sorted words array. if yes append the index to the result array\n",
        "s = \"lingmindraboofooowingdingbarrwingmonkeypoundcake\"\n",
        "words = [\"fooo\",\"barr\",\"wing\",\"ding\",\"wing\"]\n",
        "def findSubstring(s,words):\n",
        "    \n",
        "    concat_len = len(words)*len(words[0])\n",
        "    sorted_words = sorted(words)\n",
        "    word_len = len(words[0])\n",
        "    i = 0\n",
        "    res = []\n",
        "    flag = True\n",
        "    while i<=(len(s)-concat_len):\n",
        "        concat_word = s[i:i+concat_len]\n",
        "        flag = True\n",
        "        j = 0\n",
        "        k = i\n",
        "        n = word_len\n",
        "        chunks = [concat_word[k:k+n] for k in range(0, len(concat_word), n)]\n",
        "        chunks.sort()\n",
        "        if chunks == sorted_words:\n",
        "            res.append(i) if flag else None\n",
        "        \n",
        "        i+= 1\n",
        "    \n",
        "    return res\n",
        "        \n",
        "\n",
        "findSubstring(s,words)"
      ]
    }
  ],
  "metadata": {
    "colab": {
      "provenance": []
    },
    "kernelspec": {
      "display_name": "Python 3",
      "name": "python3"
    },
    "language_info": {
      "codemirror_mode": {
        "name": "ipython",
        "version": 3
      },
      "file_extension": ".py",
      "mimetype": "text/x-python",
      "name": "python",
      "nbconvert_exporter": "python",
      "pygments_lexer": "ipython3",
      "version": "3.12.0"
    }
  },
  "nbformat": 4,
  "nbformat_minor": 0
}
